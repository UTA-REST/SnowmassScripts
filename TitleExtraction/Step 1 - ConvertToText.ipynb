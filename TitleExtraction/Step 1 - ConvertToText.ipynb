{
 "cells": [
  {
   "cell_type": "code",
   "execution_count": null,
   "metadata": {},
   "outputs": [],
   "source": [
    "import numpy\n",
    "import pylab as plt\n",
    "import pdfreader\n",
    "from pdfreader import PDFDocument, SimplePDFViewer\n",
    "import os\n",
    "import sys\n",
    "import string\n",
    "%matplotlib inline"
   ]
  },
  {
   "cell_type": "code",
   "execution_count": null,
   "metadata": {},
   "outputs": [],
   "source": [
    "#Loop over folders in \"summaries\" directory and convert everything to text in \"txt\" directory\n",
    "Bases=os.listdir(\"summaries\")\n",
    "\n",
    "for Base in Bases:\n",
    "\n",
    "    os.system(\"mkdir txt/\"+ Base)\n",
    "    \n",
    "    Files=os.listdir(\"summaries/\"+Base)\n",
    "    for n in range(0,len(Files)):\n",
    "        os.system(\"pdf2txt.py \"+ \"summaries/\"+Base+\"/\"+  Files[n]+ \" > txt/\"+Base+\"/\"+Files[n]+\".txt\")\n",
    "        print(\"\")\n",
    "        print(str(n) + \" of \" +str(len(Files))+ \" in \" + Base)"
   ]
  }
 ],
 "metadata": {
  "kernelspec": {
   "display_name": "Python 3",
   "language": "python",
   "name": "python3"
  },
  "language_info": {
   "codemirror_mode": {
    "name": "ipython",
    "version": 3
   },
   "file_extension": ".py",
   "mimetype": "text/x-python",
   "name": "python",
   "nbconvert_exporter": "python",
   "pygments_lexer": "ipython3",
   "version": "3.7.7"
  }
 },
 "nbformat": 4,
 "nbformat_minor": 4
}
